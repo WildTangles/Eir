{
 "cells": [
  {
   "cell_type": "code",
   "execution_count": 8,
   "metadata": {
    "collapsed": true
   },
   "outputs": [],
   "source": [
    "import subprocess\n",
    "import os"
   ]
  },
  {
   "cell_type": "markdown",
   "metadata": {},
   "source": [
    "generates input files for MCML"
   ]
  },
  {
   "cell_type": "code",
   "execution_count": 9,
   "metadata": {
    "collapsed": true
   },
   "outputs": [],
   "source": [
    "def gen_input(input, params):\n",
    "    input_file = open('./mci/' + str(input), 'a')\n",
    "    for i in params:\n",
    "        input_file.write(i + '\\n')"
   ]
  },
  {
   "cell_type": "markdown",
   "metadata": {},
   "source": [
    "runs MCML.exe and passes file name as user input"
   ]
  },
  {
   "cell_type": "code",
   "execution_count": 10,
   "metadata": {
    "collapsed": true
   },
   "outputs": [],
   "source": [
    "def run_MC(input):\n",
    "    process = subprocess.Popen(['mcml.exe'], stdout=subprocess.PIPE, stdin=subprocess.PIPE, stderr=subprocess.PIPE)\n",
    "    commands = 'grid.grd',input\n",
    "    process.communicate(bytes('\\n'.join(commands) + '\\n', 'UTF-8'))"
   ]
  },
  {
   "cell_type": "markdown",
   "metadata": {},
   "source": [
    "range of values to play with."
   ]
  },
  {
   "cell_type": "code",
   "execution_count": 11,
   "metadata": {
    "collapsed": true
   },
   "outputs": [],
   "source": [
    "max_abs = 3.1\n",
    "curr_abs = 1.0\n",
    "\n",
    "increment_abs = 1.0\n",
    "count = 0"
   ]
  },
  {
   "cell_type": "markdown",
   "metadata": {},
   "source": [
    "generate input files"
   ]
  },
  {
   "cell_type": "code",
   "execution_count": 12,
   "metadata": {
    "collapsed": false
   },
   "outputs": [],
   "source": [
    "#generate the input files\n",
    "while curr_abs < max_abs:\n",
    "    input_filename = 'input' + str(count) + '.mci'\n",
    "    input_params = []\n",
    "    input_params.append('1.0') #file version\n",
    "    input_params.append('1')  #number of runs\n",
    "    input_params.append('output' + str(count) + '.mco') #output file name\n",
    "    input_params.append('50000') #number of photons    \n",
    "    input_params.append('20E-4 20E-4') #dz, dr\n",
    "    input_params.append('15 200 300') #No. of dz, dr & da.\n",
    "    input_params.append('2') #no. of layers\n",
    "    input_params.append('1.0') #n for medium above\n",
    "    #the refractive index,  the  absorption coefficient (1/cm), the scattering coefficient  (1/cm), the  anisotropy  factor, and the  thickness  (cm).\n",
    "    input_params.append('1.3 20 200 0.70 0.01') #layer 1\n",
    "    input_params.append('1.4 ' + str(curr_abs) + ' 200 0.70 0.02') #layer 2\n",
    "    input_params.append('1.0') #n for the medium below\n",
    "    gen_input(input_filename, input_params)\n",
    "\n",
    "    count += 1\n",
    "    curr_abs += increment_abs"
   ]
  },
  {
   "cell_type": "markdown",
   "metadata": {},
   "source": [
    "bookkeeping"
   ]
  },
  {
   "cell_type": "code",
   "execution_count": 13,
   "metadata": {
    "collapsed": false
   },
   "outputs": [],
   "source": [
    "count -= 1"
   ]
  },
  {
   "cell_type": "markdown",
   "metadata": {},
   "source": [
    "run MCML on all input files"
   ]
  },
  {
   "cell_type": "code",
   "execution_count": 14,
   "metadata": {
    "collapsed": false
   },
   "outputs": [
    {
     "name": "stdout",
     "output_type": "stream",
     "text": [
      "input2.mci\n",
      "input1.mci\n",
      "input0.mci\n"
     ]
    }
   ],
   "source": [
    "#sequentially run MCML using input files\n",
    "c_dir = os.getcwd()    \n",
    "os.chdir(c_dir + '/mco')\n",
    "while count >= 0:\n",
    "    print('input' + str(count) + '.mci')    \n",
    "    run_MC('./../mci/input' + str(count) + '.mci')    \n",
    "    count -= 1\n",
    "os.chdir(c_dir)"
   ]
  },
  {
   "cell_type": "code",
   "execution_count": null,
   "metadata": {
    "collapsed": true
   },
   "outputs": [],
   "source": []
  }
 ],
 "metadata": {
  "kernelspec": {
   "display_name": "Python 3",
   "language": "python",
   "name": "python3"
  },
  "language_info": {
   "codemirror_mode": {
    "name": "ipython",
    "version": 3
   },
   "file_extension": ".py",
   "mimetype": "text/x-python",
   "name": "python",
   "nbconvert_exporter": "python",
   "pygments_lexer": "ipython3",
   "version": "3.5.3"
  }
 },
 "nbformat": 4,
 "nbformat_minor": 2
}
